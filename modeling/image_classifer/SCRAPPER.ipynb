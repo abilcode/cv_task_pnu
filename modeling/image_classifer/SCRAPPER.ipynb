{
 "cells": [
  {
   "metadata": {
    "ExecuteTime": {
     "end_time": "2025-06-09T04:08:35.760108Z",
     "start_time": "2025-06-09T04:08:33.065850Z"
    }
   },
   "cell_type": "code",
   "source": "!pip install selenium",
   "id": "98d125ef4abeda7c",
   "outputs": [
    {
     "name": "stdout",
     "output_type": "stream",
     "text": [
      "Collecting selenium\r\n",
      "  Downloading selenium-4.33.0-py3-none-any.whl.metadata (7.5 kB)\r\n",
      "Requirement already satisfied: urllib3~=2.4.0 in /Users/abilfad/Documents/code/cv_task_pnu/cv_task/lib/python3.12/site-packages (from urllib3[socks]~=2.4.0->selenium) (2.4.0)\r\n",
      "Collecting trio~=0.30.0 (from selenium)\r\n",
      "  Using cached trio-0.30.0-py3-none-any.whl.metadata (8.5 kB)\r\n",
      "Collecting trio-websocket~=0.12.2 (from selenium)\r\n",
      "  Using cached trio_websocket-0.12.2-py3-none-any.whl.metadata (5.1 kB)\r\n",
      "Requirement already satisfied: certifi>=2025.4.26 in /Users/abilfad/Documents/code/cv_task_pnu/cv_task/lib/python3.12/site-packages (from selenium) (2025.4.26)\r\n",
      "Collecting typing_extensions~=4.13.2 (from selenium)\r\n",
      "  Downloading typing_extensions-4.13.2-py3-none-any.whl.metadata (3.0 kB)\r\n",
      "Requirement already satisfied: websocket-client~=1.8.0 in /Users/abilfad/Documents/code/cv_task_pnu/cv_task/lib/python3.12/site-packages (from selenium) (1.8.0)\r\n",
      "Requirement already satisfied: attrs>=23.2.0 in /Users/abilfad/Documents/code/cv_task_pnu/cv_task/lib/python3.12/site-packages (from trio~=0.30.0->selenium) (25.3.0)\r\n",
      "Collecting sortedcontainers (from trio~=0.30.0->selenium)\r\n",
      "  Using cached sortedcontainers-2.4.0-py2.py3-none-any.whl.metadata (10 kB)\r\n",
      "Requirement already satisfied: idna in /Users/abilfad/Documents/code/cv_task_pnu/cv_task/lib/python3.12/site-packages (from trio~=0.30.0->selenium) (3.10)\r\n",
      "Collecting outcome (from trio~=0.30.0->selenium)\r\n",
      "  Using cached outcome-1.3.0.post0-py2.py3-none-any.whl.metadata (2.6 kB)\r\n",
      "Requirement already satisfied: sniffio>=1.3.0 in /Users/abilfad/Documents/code/cv_task_pnu/cv_task/lib/python3.12/site-packages (from trio~=0.30.0->selenium) (1.3.1)\r\n",
      "Collecting wsproto>=0.14 (from trio-websocket~=0.12.2->selenium)\r\n",
      "  Using cached wsproto-1.2.0-py3-none-any.whl.metadata (5.6 kB)\r\n",
      "Collecting pysocks!=1.5.7,<2.0,>=1.5.6 (from urllib3[socks]~=2.4.0->selenium)\r\n",
      "  Using cached PySocks-1.7.1-py3-none-any.whl.metadata (13 kB)\r\n",
      "Requirement already satisfied: h11<1,>=0.9.0 in /Users/abilfad/Documents/code/cv_task_pnu/cv_task/lib/python3.12/site-packages (from wsproto>=0.14->trio-websocket~=0.12.2->selenium) (0.16.0)\r\n",
      "Downloading selenium-4.33.0-py3-none-any.whl (9.4 MB)\r\n",
      "\u001B[2K   \u001B[90m━━━━━━━━━━━━━━━━━━━━━━━━━━━━━━━━━━━━━━━━\u001B[0m \u001B[32m9.4/9.4 MB\u001B[0m \u001B[31m27.9 MB/s\u001B[0m eta \u001B[36m0:00:00\u001B[0ma \u001B[36m0:00:01\u001B[0m\r\n",
      "\u001B[?25hUsing cached trio-0.30.0-py3-none-any.whl (499 kB)\r\n",
      "Using cached trio_websocket-0.12.2-py3-none-any.whl (21 kB)\r\n",
      "Downloading typing_extensions-4.13.2-py3-none-any.whl (45 kB)\r\n",
      "Using cached PySocks-1.7.1-py3-none-any.whl (16 kB)\r\n",
      "Using cached outcome-1.3.0.post0-py2.py3-none-any.whl (10 kB)\r\n",
      "Using cached wsproto-1.2.0-py3-none-any.whl (24 kB)\r\n",
      "Using cached sortedcontainers-2.4.0-py2.py3-none-any.whl (29 kB)\r\n",
      "Installing collected packages: sortedcontainers, wsproto, typing_extensions, pysocks, outcome, trio, trio-websocket, selenium\r\n",
      "\u001B[2K  Attempting uninstall: typing_extensions\r\n",
      "\u001B[2K    Found existing installation: typing_extensions 4.14.0\r\n",
      "\u001B[2K    Uninstalling typing_extensions-4.14.0:\r\n",
      "\u001B[2K      Successfully uninstalled typing_extensions-4.14.0━━━━━━━━━━━\u001B[0m \u001B[32m2/8\u001B[0m [typing_extensions]\r\n",
      "\u001B[2K   \u001B[90m━━━━━━━━━━━━━━━━━━━━━━━━━━━━━━━━━━━━━━━━\u001B[0m \u001B[32m8/8\u001B[0m [selenium]7/8\u001B[0m [selenium]ions]\r\n",
      "\u001B[1A\u001B[2KSuccessfully installed outcome-1.3.0.post0 pysocks-1.7.1 selenium-4.33.0 sortedcontainers-2.4.0 trio-0.30.0 trio-websocket-0.12.2 typing_extensions-4.13.2 wsproto-1.2.0\r\n"
     ]
    }
   ],
   "execution_count": 1
  },
  {
   "metadata": {
    "ExecuteTime": {
     "end_time": "2025-06-09T04:09:00.513293Z",
     "start_time": "2025-06-09T04:08:59.734263Z"
    }
   },
   "cell_type": "code",
   "source": "!pip install webdriver_manager",
   "id": "f50abae6797638cf",
   "outputs": [
    {
     "name": "stdout",
     "output_type": "stream",
     "text": [
      "Collecting webdriver_manager\r\n",
      "  Downloading webdriver_manager-4.0.2-py2.py3-none-any.whl.metadata (12 kB)\r\n",
      "Requirement already satisfied: requests in /Users/abilfad/Documents/code/cv_task_pnu/cv_task/lib/python3.12/site-packages (from webdriver_manager) (2.32.3)\r\n",
      "Collecting python-dotenv (from webdriver_manager)\r\n",
      "  Using cached python_dotenv-1.1.0-py3-none-any.whl.metadata (24 kB)\r\n",
      "Requirement already satisfied: packaging in /Users/abilfad/Documents/code/cv_task_pnu/cv_task/lib/python3.12/site-packages (from webdriver_manager) (25.0)\r\n",
      "Requirement already satisfied: charset-normalizer<4,>=2 in /Users/abilfad/Documents/code/cv_task_pnu/cv_task/lib/python3.12/site-packages (from requests->webdriver_manager) (3.4.2)\r\n",
      "Requirement already satisfied: idna<4,>=2.5 in /Users/abilfad/Documents/code/cv_task_pnu/cv_task/lib/python3.12/site-packages (from requests->webdriver_manager) (3.10)\r\n",
      "Requirement already satisfied: urllib3<3,>=1.21.1 in /Users/abilfad/Documents/code/cv_task_pnu/cv_task/lib/python3.12/site-packages (from requests->webdriver_manager) (2.4.0)\r\n",
      "Requirement already satisfied: certifi>=2017.4.17 in /Users/abilfad/Documents/code/cv_task_pnu/cv_task/lib/python3.12/site-packages (from requests->webdriver_manager) (2025.4.26)\r\n",
      "Downloading webdriver_manager-4.0.2-py2.py3-none-any.whl (27 kB)\r\n",
      "Using cached python_dotenv-1.1.0-py3-none-any.whl (20 kB)\r\n",
      "Installing collected packages: python-dotenv, webdriver_manager\r\n",
      "\u001B[2K   \u001B[90m━━━━━━━━━━━━━━━━━━━━━━━━━━━━━━━━━━━━━━━━\u001B[0m \u001B[32m2/2\u001B[0m [webdriver_manager]\r\n",
      "\u001B[1A\u001B[2KSuccessfully installed python-dotenv-1.1.0 webdriver_manager-4.0.2\r\n"
     ]
    }
   ],
   "execution_count": 4
  },
  {
   "cell_type": "code",
   "id": "initial_id",
   "metadata": {
    "collapsed": true,
    "ExecuteTime": {
     "end_time": "2025-06-09T04:09:43.134528Z",
     "start_time": "2025-06-09T04:09:36.941118Z"
    }
   },
   "source": [
    "from typing import ItemsView\n",
    "from pandas.core.frame import DataFrame\n",
    "from selenium import webdriver\n",
    "from selenium.webdriver.common.by import By\n",
    "from webdriver_manager.chrome import ChromeDriverManager\n",
    "from selenium.webdriver.chrome.options import Options\n",
    "import pandas as pd\n",
    "import time\n",
    "import requests\n",
    "\n",
    "# add all racers that you want to scrape images of\n",
    "\n",
    "keywords = [\"Mobil Sedan Indonesia\", \"Mobil SUV Indonesia\"]\n",
    "\n",
    "\n",
    "# creating the function to scrape link of images to be downloaded\n",
    "\n",
    "def search_google(search_query):\n",
    "    # breaking the name down\n",
    "\n",
    "    converted_name = search_query.lower().replace(\" \", \"_\")\n",
    "\n",
    "    data_dic = {\n",
    "        \"Keyword\": [],\n",
    "        \"Image Link\": []\n",
    "    }\n",
    "\n",
    "    search_url = f\"https://www.google.com/search?site=&tbm=isch&source=hp&biw=1873&bih=990&q={search_query}\"\n",
    "\n",
    "    browser = webdriver.Chrome()\n",
    "\n",
    "    # Open browser to begin search\n",
    "    browser.get(search_url)\n",
    "\n",
    "    # Maximize the window\n",
    "    browser.maximize_window()\n",
    "\n",
    "    time.sleep(3)\n",
    "\n",
    "    count = 0\n",
    "\n",
    "    for i in range(0, 300):\n",
    "\n",
    "        count += 1\n",
    "\n",
    "        # click the picture\n",
    "\n",
    "        img_box = browser.find_elements(By.CSS_SELECTOR, 'div.fR600b')[i]\n",
    "\n",
    "        try:\n",
    "            img_box.click()\n",
    "\n",
    "            time.sleep(5)\n",
    "\n",
    "            # extract the link\n",
    "\n",
    "            img_box_2 = browser.find_elements(By.CSS_SELECTOR, 'div.p7sI2')[1]\n",
    "\n",
    "            link = img_box_2.find_elements(By.TAG_NAME, 'img')[0].get_attribute('src')\n",
    "\n",
    "        except:\n",
    "\n",
    "            # if the click gets interecepted\n",
    "\n",
    "            try:\n",
    "\n",
    "                browser.execute_script(\"window.scrollBy(0, 100);\")\n",
    "\n",
    "                time.sleep(2)\n",
    "\n",
    "                img_box.click()\n",
    "\n",
    "                time.sleep(5)\n",
    "\n",
    "                # extract the link\n",
    "\n",
    "                img_box_2 = browser.find_elements(By.CSS_SELECTOR, 'div.p7sI2')[1]\n",
    "\n",
    "                link = img_box_2.find_elements(By.TAG_NAME, 'img')[0].get_attribute('src')\n",
    "\n",
    "            except:\n",
    "\n",
    "                pass\n",
    "\n",
    "        # append to a dictionary\n",
    "\n",
    "        data_dic[\"Keyword\"].append(keyword)\n",
    "        data_dic[\"Image Link\"].append(link)\n",
    "\n",
    "        # export the dictionary to an excel\n",
    "\n",
    "        if count % 20 == 0:\n",
    "            df = pd.DataFrame(data=data_dic)\n",
    "\n",
    "            df.to_excel(f'excel_links/{converted_name}_links.xlsx', index=False)\n",
    "\n",
    "            print(f\"Downloaded {count} images of {search_query}\")\n",
    "\n",
    "    browser.close()\n",
    "\n",
    "\n",
    "# running the seach function that we created above through the keywords\n",
    "\n",
    "for keyword in keywords:\n",
    "    print(f\"Downloading Images of {keyword}\")\n",
    "    search_google(keyword)"
   ],
   "outputs": [
    {
     "name": "stdout",
     "output_type": "stream",
     "text": [
      "Downloading Images of Mobil Sedan Indonesia\n"
     ]
    },
    {
     "ename": "IndexError",
     "evalue": "list index out of range",
     "output_type": "error",
     "traceback": [
      "\u001B[31m---------------------------------------------------------------------------\u001B[39m",
      "\u001B[31mIndexError\u001B[39m                                Traceback (most recent call last)",
      "\u001B[36mCell\u001B[39m\u001B[36m \u001B[39m\u001B[32mIn[6]\u001B[39m\u001B[32m, line 106\u001B[39m\n\u001B[32m    104\u001B[39m \u001B[38;5;28;01mfor\u001B[39;00m keyword \u001B[38;5;129;01min\u001B[39;00m keywords:\n\u001B[32m    105\u001B[39m     \u001B[38;5;28mprint\u001B[39m(\u001B[33mf\u001B[39m\u001B[33m\"\u001B[39m\u001B[33mDownloading Images of \u001B[39m\u001B[38;5;132;01m{\u001B[39;00mkeyword\u001B[38;5;132;01m}\u001B[39;00m\u001B[33m\"\u001B[39m)\n\u001B[32m--> \u001B[39m\u001B[32m106\u001B[39m     \u001B[43msearch_google\u001B[49m\u001B[43m(\u001B[49m\u001B[43mkeyword\u001B[49m\u001B[43m)\u001B[49m\n",
      "\u001B[36mCell\u001B[39m\u001B[36m \u001B[39m\u001B[32mIn[6]\u001B[39m\u001B[32m, line 48\u001B[39m, in \u001B[36msearch_google\u001B[39m\u001B[34m(search_query)\u001B[39m\n\u001B[32m     44\u001B[39m count += \u001B[32m1\u001B[39m\n\u001B[32m     46\u001B[39m \u001B[38;5;66;03m# click the picture\u001B[39;00m\n\u001B[32m---> \u001B[39m\u001B[32m48\u001B[39m img_box = \u001B[43mbrowser\u001B[49m\u001B[43m.\u001B[49m\u001B[43mfind_elements\u001B[49m\u001B[43m(\u001B[49m\u001B[43mBy\u001B[49m\u001B[43m.\u001B[49m\u001B[43mCSS_SELECTOR\u001B[49m\u001B[43m,\u001B[49m\u001B[43m \u001B[49m\u001B[33;43m'\u001B[39;49m\u001B[33;43mdiv.fR600b\u001B[39;49m\u001B[33;43m'\u001B[39;49m\u001B[43m)\u001B[49m\u001B[43m[\u001B[49m\u001B[43mi\u001B[49m\u001B[43m]\u001B[49m\n\u001B[32m     50\u001B[39m \u001B[38;5;28;01mtry\u001B[39;00m:\n\u001B[32m     51\u001B[39m     img_box.click()\n",
      "\u001B[31mIndexError\u001B[39m: list index out of range"
     ]
    }
   ],
   "execution_count": 6
  },
  {
   "metadata": {},
   "cell_type": "code",
   "outputs": [],
   "execution_count": null,
   "source": "",
   "id": "f14006e13187a282"
  }
 ],
 "metadata": {
  "kernelspec": {
   "display_name": "Python 3",
   "language": "python",
   "name": "python3"
  },
  "language_info": {
   "codemirror_mode": {
    "name": "ipython",
    "version": 2
   },
   "file_extension": ".py",
   "mimetype": "text/x-python",
   "name": "python",
   "nbconvert_exporter": "python",
   "pygments_lexer": "ipython2",
   "version": "2.7.6"
  }
 },
 "nbformat": 4,
 "nbformat_minor": 5
}
