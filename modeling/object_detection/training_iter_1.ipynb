{
 "cells": [
  {
   "cell_type": "code",
   "id": "initial_id",
   "metadata": {
    "collapsed": true,
    "ExecuteTime": {
     "end_time": "2025-06-05T07:41:16.232389Z",
     "start_time": "2025-06-05T07:41:16.230770Z"
    }
   },
   "source": [
    "import json\n",
    "from PIL import Image\n",
    "import os\n",
    "import pandas as pd\n",
    "import numpy as np"
   ],
   "outputs": [],
   "execution_count": 5
  },
  {
   "metadata": {
    "ExecuteTime": {
     "end_time": "2025-06-05T07:41:16.227884Z",
     "start_time": "2025-06-05T07:40:51.386295Z"
    }
   },
   "cell_type": "code",
   "source": [
    "import supervision\n",
    "import transformers\n",
    "import pytorch_lightning"
   ],
   "id": "5c9f6f1e9d762c43",
   "outputs": [
    {
     "name": "stderr",
     "output_type": "stream",
     "text": [
      "NotOpenSSLWarning: urllib3 v2 only supports OpenSSL 1.1.1+, currently the 'ssl' module is compiled with 'LibreSSL 2.8.3'. See: https://github.com/urllib3/urllib3/issues/3020\n"
     ]
    }
   ],
   "execution_count": 4
  },
  {
   "metadata": {
    "ExecuteTime": {
     "end_time": "2025-06-05T07:47:14.254410Z",
     "start_time": "2025-06-05T07:47:14.251035Z"
    }
   },
   "cell_type": "code",
   "source": [
    "CSV_PATH = '../object_detection/data/train_solution_bounding_boxes.csv'\n",
    "OUTPUT_JSON_PATH = '../object_detection/data/train_annotations_coco_bounding_boxes.json'\n",
    "TRAIN_IMG_DIR = '../object_detection/data/training_images'"
   ],
   "id": "f1bfe3ddc7962182",
   "outputs": [],
   "execution_count": 26
  },
  {
   "metadata": {
    "ExecuteTime": {
     "end_time": "2025-06-05T07:44:11.858169Z",
     "start_time": "2025-06-05T07:44:11.843892Z"
    }
   },
   "cell_type": "code",
   "source": [
    "bounding_box = pd.read_csv(CSV_PATH)\n",
    "display(bounding_box)"
   ],
   "id": "76cbc5f0a630204f",
   "outputs": [
    {
     "data": {
      "text/plain": [
       "               image        xmin        ymin        xmax        ymax\n",
       "0     vid_4_1000.jpg  281.259045  187.035071  327.727931  223.225547\n",
       "1    vid_4_10000.jpg   15.163531  187.035071  120.329957  236.430180\n",
       "2    vid_4_10040.jpg  239.192475  176.764801  361.968162  236.430180\n",
       "3    vid_4_10020.jpg  496.483358  172.363256  630.020260  231.539575\n",
       "4    vid_4_10060.jpg   16.630970  186.546010  132.558611  238.386422\n",
       "..               ...         ...         ...         ...         ...\n",
       "554   vid_4_9860.jpg    0.000000  198.321729   49.235251  236.223284\n",
       "555   vid_4_9880.jpg  329.876184  156.482351  536.664239  250.497895\n",
       "556   vid_4_9900.jpg    0.000000  168.295823  141.797524  239.176652\n",
       "557   vid_4_9960.jpg  487.428988  172.233646  616.917699  228.839864\n",
       "558   vid_4_9980.jpg  221.558631  182.570434  348.585579  238.192196\n",
       "\n",
       "[559 rows x 5 columns]"
      ],
      "text/html": [
       "<div>\n",
       "<style scoped>\n",
       "    .dataframe tbody tr th:only-of-type {\n",
       "        vertical-align: middle;\n",
       "    }\n",
       "\n",
       "    .dataframe tbody tr th {\n",
       "        vertical-align: top;\n",
       "    }\n",
       "\n",
       "    .dataframe thead th {\n",
       "        text-align: right;\n",
       "    }\n",
       "</style>\n",
       "<table border=\"1\" class=\"dataframe\">\n",
       "  <thead>\n",
       "    <tr style=\"text-align: right;\">\n",
       "      <th></th>\n",
       "      <th>image</th>\n",
       "      <th>xmin</th>\n",
       "      <th>ymin</th>\n",
       "      <th>xmax</th>\n",
       "      <th>ymax</th>\n",
       "    </tr>\n",
       "  </thead>\n",
       "  <tbody>\n",
       "    <tr>\n",
       "      <th>0</th>\n",
       "      <td>vid_4_1000.jpg</td>\n",
       "      <td>281.259045</td>\n",
       "      <td>187.035071</td>\n",
       "      <td>327.727931</td>\n",
       "      <td>223.225547</td>\n",
       "    </tr>\n",
       "    <tr>\n",
       "      <th>1</th>\n",
       "      <td>vid_4_10000.jpg</td>\n",
       "      <td>15.163531</td>\n",
       "      <td>187.035071</td>\n",
       "      <td>120.329957</td>\n",
       "      <td>236.430180</td>\n",
       "    </tr>\n",
       "    <tr>\n",
       "      <th>2</th>\n",
       "      <td>vid_4_10040.jpg</td>\n",
       "      <td>239.192475</td>\n",
       "      <td>176.764801</td>\n",
       "      <td>361.968162</td>\n",
       "      <td>236.430180</td>\n",
       "    </tr>\n",
       "    <tr>\n",
       "      <th>3</th>\n",
       "      <td>vid_4_10020.jpg</td>\n",
       "      <td>496.483358</td>\n",
       "      <td>172.363256</td>\n",
       "      <td>630.020260</td>\n",
       "      <td>231.539575</td>\n",
       "    </tr>\n",
       "    <tr>\n",
       "      <th>4</th>\n",
       "      <td>vid_4_10060.jpg</td>\n",
       "      <td>16.630970</td>\n",
       "      <td>186.546010</td>\n",
       "      <td>132.558611</td>\n",
       "      <td>238.386422</td>\n",
       "    </tr>\n",
       "    <tr>\n",
       "      <th>...</th>\n",
       "      <td>...</td>\n",
       "      <td>...</td>\n",
       "      <td>...</td>\n",
       "      <td>...</td>\n",
       "      <td>...</td>\n",
       "    </tr>\n",
       "    <tr>\n",
       "      <th>554</th>\n",
       "      <td>vid_4_9860.jpg</td>\n",
       "      <td>0.000000</td>\n",
       "      <td>198.321729</td>\n",
       "      <td>49.235251</td>\n",
       "      <td>236.223284</td>\n",
       "    </tr>\n",
       "    <tr>\n",
       "      <th>555</th>\n",
       "      <td>vid_4_9880.jpg</td>\n",
       "      <td>329.876184</td>\n",
       "      <td>156.482351</td>\n",
       "      <td>536.664239</td>\n",
       "      <td>250.497895</td>\n",
       "    </tr>\n",
       "    <tr>\n",
       "      <th>556</th>\n",
       "      <td>vid_4_9900.jpg</td>\n",
       "      <td>0.000000</td>\n",
       "      <td>168.295823</td>\n",
       "      <td>141.797524</td>\n",
       "      <td>239.176652</td>\n",
       "    </tr>\n",
       "    <tr>\n",
       "      <th>557</th>\n",
       "      <td>vid_4_9960.jpg</td>\n",
       "      <td>487.428988</td>\n",
       "      <td>172.233646</td>\n",
       "      <td>616.917699</td>\n",
       "      <td>228.839864</td>\n",
       "    </tr>\n",
       "    <tr>\n",
       "      <th>558</th>\n",
       "      <td>vid_4_9980.jpg</td>\n",
       "      <td>221.558631</td>\n",
       "      <td>182.570434</td>\n",
       "      <td>348.585579</td>\n",
       "      <td>238.192196</td>\n",
       "    </tr>\n",
       "  </tbody>\n",
       "</table>\n",
       "<p>559 rows × 5 columns</p>\n",
       "</div>"
      ]
     },
     "metadata": {},
     "output_type": "display_data"
    }
   ],
   "execution_count": 21
  },
  {
   "metadata": {},
   "cell_type": "markdown",
   "source": "Preparing COCO FORMAT",
   "id": "6b7afc1e4d6f7173"
  },
  {
   "metadata": {
    "ExecuteTime": {
     "end_time": "2025-06-05T07:46:06.373582Z",
     "start_time": "2025-06-05T07:46:06.370572Z"
    }
   },
   "cell_type": "code",
   "source": [
    "# Prepare coco format\n",
    "coco = {\n",
    "    \"images\": [],\n",
    "    \"annotations\": [],\n",
    "    \"categories\": [\n",
    "        {\n",
    "            \"id\": 1,\n",
    "            \"name\": \"car\",\n",
    "            \"supercategory\": \"vehicle\"\n",
    "        }\n",
    "    ]\n",
    "}"
   ],
   "id": "49b7a175bcea2523",
   "outputs": [],
   "execution_count": 23
  },
  {
   "metadata": {
    "ExecuteTime": {
     "end_time": "2025-06-05T07:46:17.903475Z",
     "start_time": "2025-06-05T07:46:17.899865Z"
    }
   },
   "cell_type": "code",
   "source": [
    "#Map the image filename to image id\n",
    "image_id_map = {}\n",
    "annotation_id = 1\n",
    "image_id_counter = 1\n",
    "\n",
    "images = bounding_box['image'].unique()"
   ],
   "id": "ca8814bf9aef9661",
   "outputs": [],
   "execution_count": 25
  },
  {
   "metadata": {
    "ExecuteTime": {
     "end_time": "2025-06-05T07:47:22.744879Z",
     "start_time": "2025-06-05T07:47:22.657786Z"
    }
   },
   "cell_type": "code",
   "source": [
    "for img_name in images:\n",
    "    img_path = os.path.join(TRAIN_IMG_DIR, img_name)\n",
    "    if not os.path.exists(img_path):\n",
    "        print(f'Warning: {img_path} not found!')\n",
    "        continue\n",
    "    with Image.open(img_path) as img:\n",
    "        width, height = img.size\n",
    "    # add image's info to coco\n",
    "    image_info = {\n",
    "        \"file_name\": img_name,\n",
    "        \"height\": height,\n",
    "        \"width\": width,\n",
    "        \"id\": image_id_counter\n",
    "    }\n",
    "    coco['images'].append(image_info)\n",
    "    image_id_map[img_name] = image_id_counter\n",
    "    image_id_counter += 1"
   ],
   "id": "951b0a83d507c5ff",
   "outputs": [],
   "execution_count": 27
  },
  {
   "metadata": {
    "ExecuteTime": {
     "end_time": "2025-06-05T07:47:59.088974Z",
     "start_time": "2025-06-05T07:47:59.073584Z"
    }
   },
   "cell_type": "code",
   "source": [
    "# process annotations\n",
    "for idx, row in bounding_box.iterrows():\n",
    "    img_name = row['image']\n",
    "    if img_name not in image_id_map:\n",
    "        continue # if the image is missing, then skip annotation\n",
    "    x_min = row['xmin']\n",
    "    y_min = row['ymin']\n",
    "    x_max = row['xmax']\n",
    "    y_max = row['ymax']\n",
    "\n",
    "    # now to coco box format\n",
    "    bbox_width = x_max - x_min\n",
    "    bbox_height = y_max - y_min\n",
    "\n",
    "    annotation = {\n",
    "        \"id\": annotation_id,\n",
    "        \"image_id\": image_id_map[img_name],\n",
    "        \"category_id\": 1, # car\n",
    "        \"bbox\": [x_min, y_min, bbox_width, bbox_height],\n",
    "        \"area\": bbox_width * bbox_height,\n",
    "        \"iscrowd\": 0,\n",
    "        \"segmentation\": []\n",
    "    }\n",
    "    coco['annotations'].append(annotation)\n",
    "    annotation_id += 1"
   ],
   "id": "272f49d2cb467a41",
   "outputs": [],
   "execution_count": 28
  },
  {
   "metadata": {
    "ExecuteTime": {
     "end_time": "2025-06-05T07:48:09.635193Z",
     "start_time": "2025-06-05T07:48:09.632803Z"
    }
   },
   "cell_type": "code",
   "source": "",
   "id": "8887d483c9c6f340",
   "outputs": [
    {
     "name": "stdout",
     "output_type": "stream",
     "text": [
      "a\n"
     ]
    }
   ],
   "execution_count": 29
  },
  {
   "metadata": {},
   "cell_type": "code",
   "outputs": [],
   "execution_count": null,
   "source": "",
   "id": "ff8463d0326a210a"
  }
 ],
 "metadata": {
  "kernelspec": {
   "display_name": "Python 3",
   "language": "python",
   "name": "python3"
  },
  "language_info": {
   "codemirror_mode": {
    "name": "ipython",
    "version": 2
   },
   "file_extension": ".py",
   "mimetype": "text/x-python",
   "name": "python",
   "nbconvert_exporter": "python",
   "pygments_lexer": "ipython2",
   "version": "2.7.6"
  }
 },
 "nbformat": 4,
 "nbformat_minor": 5
}
